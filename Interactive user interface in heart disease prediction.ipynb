{
 "cells": [
  {
   "cell_type": "code",
   "execution_count": 1,
   "id": "d9f09a51",
   "metadata": {},
   "outputs": [],
   "source": [
    "# Import necessary libraries\n",
    "import pandas as pd\n",
    "from sklearn.linear_model import LogisticRegression\n",
    "from sklearn.preprocessing import StandardScaler\n",
    "from sklearn.metrics import accuracy_score, precision_score, recall_score, f1_score\n",
    "from sklearn.model_selection import train_test_split\n",
    "import numpy as np\n"
   ]
  },
  {
   "cell_type": "code",
   "execution_count": 2,
   "id": "cbf06d5c",
   "metadata": {},
   "outputs": [],
   "source": [
    "# Read in the input data\n",
    "data = pd.read_csv('heart.csv')"
   ]
  },
  {
   "cell_type": "code",
   "execution_count": 3,
   "id": "c785f390",
   "metadata": {},
   "outputs": [],
   "source": [
    "# Split the data into features and target variable\n",
    "x = data.drop(['HeartDisease'], axis=1)\n",
    "y = data['HeartDisease']"
   ]
  },
  {
   "cell_type": "code",
   "execution_count": 4,
   "id": "72cc6b33",
   "metadata": {},
   "outputs": [],
   "source": [
    "# Split the data into training and testing sets\n",
    "x_train, x_test, y_train, y_test = train_test_split(x, y, test_size=0.3, random_state=42)\n",
    "\n",
    "# Convert categorical data into numerical data\n",
    "cat_cols = x_train.select_dtypes('object').keys().tolist()\n",
    "x_train = pd.get_dummies(data=x_train, columns=cat_cols, drop_first=True)\n",
    "x_test = pd.get_dummies(data=x_test, columns=cat_cols, drop_first=True)"
   ]
  },
  {
   "cell_type": "code",
   "execution_count": 5,
   "id": "fe8b50f0",
   "metadata": {},
   "outputs": [],
   "source": [
    "# Standardize the data\n",
    "x_train_cols = x_train.columns\n",
    "scaler = StandardScaler()\n",
    "x_train = scaler.fit_transform(x_train)\n",
    "x_test = scaler.transform(x_test)\n",
    "x_test = pd.DataFrame(x_test, columns=x_train_cols)"
   ]
  },
  {
   "cell_type": "code",
   "execution_count": 6,
   "id": "23a39068",
   "metadata": {},
   "outputs": [
    {
     "name": "stdout",
     "output_type": "stream",
     "text": [
      "Accuracy: 0.8804347826086957\n",
      "Precision: 0.9171974522292994\n",
      "Recall: 0.8780487804878049\n",
      "F1-Score: 0.897196261682243\n"
     ]
    }
   ],
   "source": [
    "# Fit a Logistic Regression model\n",
    "model = LogisticRegression(solver='lbfgs')\n",
    "model.fit(x_train, y_train)\n",
    "\n",
    "# Make predictions on the test set\n",
    "y_pred_proba = model.predict_proba(x_test)\n",
    "y_pred = np.argmax(y_pred_proba, axis=1)\n",
    "\n",
    "# Print the accuracy score\n",
    "print(\"Accuracy:\", accuracy_score(y_test, y_pred))\n",
    "\n",
    "# Print other evaluation metrics\n",
    "print(\"Precision:\", precision_score(y_test, y_pred))\n",
    "print(\"Recall:\", recall_score(y_test, y_pred))\n",
    "print(\"F1-Score:\", f1_score(y_test, y_pred))\n"
   ]
  },
  {
   "cell_type": "code",
   "execution_count": 7,
   "id": "b174ccca",
   "metadata": {},
   "outputs": [],
   "source": [
    "import ipywidgets as widgets\n",
    "from IPython.display import display\n",
    "\n",
    "# Create widgets for the input features\n",
    "age_text = widgets.IntText(value=0, description='Age:')\n",
    "sex_dropdown = widgets.Dropdown(options=['Male','Female'],value='Male',description='Sex:')\n",
    "cp_dropdown = widgets.Dropdown(options=[1,2,3,4],value=1,description='Chest Pain Type:')\n",
    "trestbps_text = widgets.IntText(value=0, description='Resting Blood Pressure:')\n",
    "chol_text = widgets.IntText(value=0, description='Cholestoral:')\n",
    "fbs_dropdown = widgets.Dropdown(options=[0,1],value=0,description='Fasting Blood Sugar:')\n",
    "restecg_dropdown = widgets.Dropdown(options=[0,1,2],value=0,description='Resting Electrocardiographic Results:')\n",
    "thalach_text = widgets.IntText(value=0, description='Maximum Heart Rate Achieved:')\n",
    "exang_dropdown = widgets.Dropdown(options=[0,1],value=0,description='Exercise Induced Angina:')\n",
    "oldpeak_text = widgets.FloatText(value=0, description='ST Depression Induced by Exercise:')\n",
    "slope_dropdown = widgets.Dropdown(options=[1,2,3],value=1,description='Slope of the Peak Exercise ST Segment:')\n",
    "ca_text = widgets.IntText(value=0, description='Number of Major Vessels Colored by Flourosopy:')\n",
    "thal_dropdown = widgets.Dropdown(options=['Normal','Fixed defect','Reversible defect'],value='Normal',description='Thalassemia:')"
   ]
  },
  {
   "cell_type": "code",
   "execution_count": 8,
   "id": "804a9527",
   "metadata": {},
   "outputs": [],
   "source": [
    "# Create a button widget for making predictions\n",
    "button = widgets.Button(description=\"Predict\")\n",
    "\n",
    "# Create widgets for displaying the output\n",
    "disease_label = widgets.Label()\n",
    "acc_label = widgets.Label()"
   ]
  },
  {
   "cell_type": "code",
   "execution_count": 9,
   "id": "8e3643d7",
   "metadata": {},
   "outputs": [],
   "source": [
    "import pandas as pd\n",
    "# Define a function that maps the input values to numerical values\n",
    "def map_inputs():\n",
    "    sex_map = {'Male': 1, 'Female': 0}\n",
    "    cp_map = {1: 1, 2: 2, 3: 3, 4: 4}\n",
    "    fbs_map = {0: 0, 1: 1}\n",
    "    restecg_map = {0: 0, 1: 1, 2: 2}\n",
    "    exang_map = {0: 0, 1: 1}\n",
    "    slope_map = {1: 1, 2: 2, 3: 3}\n",
    "    thal_map = {'Normal': 0, 'Fixed defect': 1, 'Reversible defect': 2}\n",
    "    \n",
    "    x_test_temp = pd.DataFrame(columns=['Age', 'Sex', 'ChestPainType', 'RestingBP', 'Cholesterol', 'FastingBS', 'RestingECG', 'MaxHR', 'ExerciseAngina', 'Oldpeak', 'ST_Slope', 'CA', 'Thal'])\n",
    "    x_test_temp = x_test_temp.append({'Age': age_text.value, 'Sex': sex_map[sex_dropdown.value], 'ChestPainType': cp_map[cp_dropdown.value], 'RestingBP': trestbps_text.value, 'Cholesterol': chol_text.value, 'FastingBS': fbs_map[fbs_dropdown.value], 'RestingECG': restecg_map[restecg_dropdown.value], 'MaxHR': thalach_text.value, 'ExerciseAngina': exang_map[exang_dropdown.value], 'Oldpeak': oldpeak_text.value, 'ST_Slope': slope_map[slope_dropdown.value], 'CA': ca_text.value, 'Thal': thal_map[thal_dropdown.value]}, ignore_index=True)\n",
    "    return x_test_temp\n",
    "\n"
   ]
  },
  {
   "cell_type": "code",
   "execution_count": 10,
   "id": "0f607141",
   "metadata": {},
   "outputs": [],
   "source": [
    "def predict(b):\n",
    "    x_test_temp = map_inputs()\n",
    "    x_test_temp = pd.get_dummies(data=x_test_temp, columns=cat_cols, drop_first=True)\n",
    "    x_test_temp = x_test_temp.reindex(columns=x_train_cols, fill_value=0)\n",
    "    x_test_temp = scaler.transform(x_test_temp)\n",
    "    y_pred = model.predict(x_test_temp)\n",
    "    # predict the class of the input sample\n",
    "    # pick only one sample from the test data\n",
    "    x_test_temp = x_test.iloc[0].values.reshape(1, -1)\n",
    "    y_test_temp = y_test.iloc[0]\n",
    "\n",
    "    pred = model.predict(x_test_temp)\n",
    "    disease_label.value = 'Predicted Heart Disease: ' + str(pred[0])\n",
    "\n",
    "    # compare the predicted class with the true label of the input sample\n",
    "    acc = accuracy_score([y_test_temp], pred)\n",
    "    acc_label.value = 'Accuracy: ' + str(acc)\n"
   ]
  },
  {
   "cell_type": "code",
   "execution_count": 11,
   "id": "01c4dde8",
   "metadata": {},
   "outputs": [],
   "source": [
    "# Create a button widget for making predictions\n",
    "button = widgets.Button(description=\"Predict\")\n",
    "\n",
    "# Assign the function to the on_click event\n",
    "button.on_click(predict)\n"
   ]
  },
  {
   "cell_type": "code",
   "execution_count": 12,
   "id": "1d0b172d",
   "metadata": {
    "scrolled": true
   },
   "outputs": [
    {
     "data": {
      "application/vnd.jupyter.widget-view+json": {
       "model_id": "a4a2b5893e33488ead3117f8f66efaac",
       "version_major": 2,
       "version_minor": 0
      },
      "text/plain": [
       "IntText(value=0, description='Age:')"
      ]
     },
     "metadata": {},
     "output_type": "display_data"
    },
    {
     "data": {
      "application/vnd.jupyter.widget-view+json": {
       "model_id": "179b58ccbab84c37955224cc5d3ec5c6",
       "version_major": 2,
       "version_minor": 0
      },
      "text/plain": [
       "Dropdown(description='Sex:', options=('Male', 'Female'), value='Male')"
      ]
     },
     "metadata": {},
     "output_type": "display_data"
    },
    {
     "data": {
      "application/vnd.jupyter.widget-view+json": {
       "model_id": "31869486f8bf435e9868d15203230f2a",
       "version_major": 2,
       "version_minor": 0
      },
      "text/plain": [
       "Dropdown(description='Chest Pain Type:', options=(1, 2, 3, 4), value=1)"
      ]
     },
     "metadata": {},
     "output_type": "display_data"
    },
    {
     "data": {
      "application/vnd.jupyter.widget-view+json": {
       "model_id": "603967a0813848a388a3dadf9b8d596a",
       "version_major": 2,
       "version_minor": 0
      },
      "text/plain": [
       "IntText(value=0, description='Resting Blood Pressure:')"
      ]
     },
     "metadata": {},
     "output_type": "display_data"
    },
    {
     "data": {
      "application/vnd.jupyter.widget-view+json": {
       "model_id": "76ae2aa65b214933897cb628fe0cbf16",
       "version_major": 2,
       "version_minor": 0
      },
      "text/plain": [
       "IntText(value=0, description='Cholestoral:')"
      ]
     },
     "metadata": {},
     "output_type": "display_data"
    },
    {
     "data": {
      "application/vnd.jupyter.widget-view+json": {
       "model_id": "431770798a0946fa83409ffd70aea058",
       "version_major": 2,
       "version_minor": 0
      },
      "text/plain": [
       "Dropdown(description='Fasting Blood Sugar:', options=(0, 1), value=0)"
      ]
     },
     "metadata": {},
     "output_type": "display_data"
    },
    {
     "data": {
      "application/vnd.jupyter.widget-view+json": {
       "model_id": "f31f232e03aa4cf098ca7b4e4c1bdf23",
       "version_major": 2,
       "version_minor": 0
      },
      "text/plain": [
       "Dropdown(description='Resting Electrocardiographic Results:', options=(0, 1, 2), value=0)"
      ]
     },
     "metadata": {},
     "output_type": "display_data"
    },
    {
     "data": {
      "application/vnd.jupyter.widget-view+json": {
       "model_id": "f572a6b882a347d1a76334aba7f3123f",
       "version_major": 2,
       "version_minor": 0
      },
      "text/plain": [
       "IntText(value=0, description='Maximum Heart Rate Achieved:')"
      ]
     },
     "metadata": {},
     "output_type": "display_data"
    },
    {
     "data": {
      "application/vnd.jupyter.widget-view+json": {
       "model_id": "8bccef9f7c3d4c019472ad424c96d0cf",
       "version_major": 2,
       "version_minor": 0
      },
      "text/plain": [
       "Dropdown(description='Exercise Induced Angina:', options=(0, 1), value=0)"
      ]
     },
     "metadata": {},
     "output_type": "display_data"
    },
    {
     "data": {
      "application/vnd.jupyter.widget-view+json": {
       "model_id": "ba0452cd8fb4425db4694db9ef806f94",
       "version_major": 2,
       "version_minor": 0
      },
      "text/plain": [
       "FloatText(value=0.0, description='ST Depression Induced by Exercise:')"
      ]
     },
     "metadata": {},
     "output_type": "display_data"
    },
    {
     "data": {
      "application/vnd.jupyter.widget-view+json": {
       "model_id": "de628ed62ddb40e0896da6462e748bcd",
       "version_major": 2,
       "version_minor": 0
      },
      "text/plain": [
       "Dropdown(description='Slope of the Peak Exercise ST Segment:', options=(1, 2, 3), value=1)"
      ]
     },
     "metadata": {},
     "output_type": "display_data"
    },
    {
     "data": {
      "application/vnd.jupyter.widget-view+json": {
       "model_id": "5270a8e8f12f49e3bccbdce0ef8701d2",
       "version_major": 2,
       "version_minor": 0
      },
      "text/plain": [
       "IntText(value=0, description='Number of Major Vessels Colored by Flourosopy:')"
      ]
     },
     "metadata": {},
     "output_type": "display_data"
    },
    {
     "data": {
      "application/vnd.jupyter.widget-view+json": {
       "model_id": "768b391007d04656b61805e6b81e9f76",
       "version_major": 2,
       "version_minor": 0
      },
      "text/plain": [
       "Dropdown(description='Thalassemia:', options=('Normal', 'Fixed defect', 'Reversible defect'), value='Normal')"
      ]
     },
     "metadata": {},
     "output_type": "display_data"
    },
    {
     "data": {
      "application/vnd.jupyter.widget-view+json": {
       "model_id": "c9d6de3f27e242ed970caa9ec7e8ef9d",
       "version_major": 2,
       "version_minor": 0
      },
      "text/plain": [
       "Button(description='Predict', style=ButtonStyle())"
      ]
     },
     "metadata": {},
     "output_type": "display_data"
    },
    {
     "data": {
      "application/vnd.jupyter.widget-view+json": {
       "model_id": "e06a6c50885e40e298d77b7d4f992917",
       "version_major": 2,
       "version_minor": 0
      },
      "text/plain": [
       "Label(value='')"
      ]
     },
     "metadata": {},
     "output_type": "display_data"
    },
    {
     "data": {
      "application/vnd.jupyter.widget-view+json": {
       "model_id": "f7b4a87391c844398dddda39a0560b5d",
       "version_major": 2,
       "version_minor": 0
      },
      "text/plain": [
       "Label(value='')"
      ]
     },
     "metadata": {},
     "output_type": "display_data"
    }
   ],
   "source": [
    "display(age_text, sex_dropdown, cp_dropdown, trestbps_text, chol_text, fbs_dropdown, restecg_dropdown, thalach_text, exang_dropdown, oldpeak_text, slope_dropdown, ca_text, thal_dropdown, button, disease_label, acc_label)"
   ]
  }
 ],
 "metadata": {
  "kernelspec": {
   "display_name": "Python 3",
   "language": "python",
   "name": "python3"
  },
  "language_info": {
   "codemirror_mode": {
    "name": "ipython",
    "version": 3
   },
   "file_extension": ".py",
   "mimetype": "text/x-python",
   "name": "python",
   "nbconvert_exporter": "python",
   "pygments_lexer": "ipython3",
   "version": "3.8.8"
  }
 },
 "nbformat": 4,
 "nbformat_minor": 5
}
